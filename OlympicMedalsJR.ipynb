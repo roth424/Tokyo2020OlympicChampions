{
 "cells": [
  {
   "cell_type": "code",
   "execution_count": 1,
   "metadata": {
    "colab": {},
    "colab_type": "code",
    "id": "lRP-3MzxZ3cw"
   },
   "outputs": [],
   "source": [
    "from numpy.random import seed\n",
    "seed(42)"
   ]
  },
  {
   "cell_type": "code",
   "execution_count": 2,
   "metadata": {
    "colab": {
     "base_uri": "https://localhost:8080/",
     "height": 74,
     "resources": {
      "http://localhost:8080/nbextensions/google.colab/files.js": {
       "data": "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",
       "headers": [
        [
         "content-type",
         "application/javascript"
        ]
       ],
       "ok": true,
       "status": 200,
       "status_text": ""
      }
     }
    },
    "colab_type": "code",
    "id": "Eo6yOZlGsedV",
    "outputId": "720af2dd-82ec-4d52-e1aa-3e5ccb846d2e"
   },
   "outputs": [
    {
     "ename": "ModuleNotFoundError",
     "evalue": "No module named 'google.colab'",
     "output_type": "error",
     "traceback": [
      "\u001b[1;31m---------------------------------------------------------------------------\u001b[0m",
      "\u001b[1;31mModuleNotFoundError\u001b[0m                       Traceback (most recent call last)",
      "\u001b[1;32m<ipython-input-2-21dc3c638f66>\u001b[0m in \u001b[0;36m<module>\u001b[1;34m\u001b[0m\n\u001b[1;32m----> 1\u001b[1;33m \u001b[1;32mfrom\u001b[0m \u001b[0mgoogle\u001b[0m\u001b[1;33m.\u001b[0m\u001b[0mcolab\u001b[0m \u001b[1;32mimport\u001b[0m \u001b[0mfiles\u001b[0m\u001b[1;33m\u001b[0m\u001b[1;33m\u001b[0m\u001b[0m\n\u001b[0m\u001b[0;32m      2\u001b[0m \u001b[0muploaded\u001b[0m \u001b[1;33m=\u001b[0m \u001b[0mfiles\u001b[0m\u001b[1;33m.\u001b[0m\u001b[0mupload\u001b[0m\u001b[1;33m(\u001b[0m\u001b[1;33m)\u001b[0m\u001b[1;33m\u001b[0m\u001b[1;33m\u001b[0m\u001b[0m\n",
      "\u001b[1;31mModuleNotFoundError\u001b[0m: No module named 'google.colab'"
     ]
    }
   ],
   "source": [
    "from google.colab import files\n",
    "uploaded = files.upload()"
   ]
  },
  {
   "cell_type": "code",
   "execution_count": null,
   "metadata": {
    "colab": {
     "base_uri": "https://localhost:8080/",
     "height": 419
    },
    "colab_type": "code",
    "id": "6tn83UF2sfI3",
    "outputId": "46e39392-e0e3-4eba-f49a-5d43965cb09a"
   },
   "outputs": [],
   "source": [
    "import pandas as pd\n",
    "import numpy as np\n",
    "import io\n",
    "\n",
    "df = pd.read_csv(io.StringIO(uploaded['Olympic_final_data_191111d.csv'].decode('utf-8')))\n",
    "df = df[[\"NOC\",\"Year\",\"Golds\", \"Silvers\", \"Bronzes\"]]\n",
    "df = pd.DataFrame.pivot_table(df, values=[\"Golds\", \"Silvers\", \"Bronzes\"], index=[\"NOC\",\"Year\"], aggfunc=np.sum)\n",
    "df.reset_index(inplace=True)\n",
    "df"
   ]
  },
  {
   "cell_type": "code",
   "execution_count": null,
   "metadata": {
    "colab": {},
    "colab_type": "code",
    "id": "KbM6CNr7Wdds"
   },
   "outputs": [],
   "source": [
    "newdf = pd.DataFrame([{\"NOC\": \"AFG\", \"Year\": \"2020\"},\n",
    "                      {\"NOC\": \"AHO\", \"Year\": \"2020\"},\n",
    "                      {\"NOC\": \"ALG\", \"Year\": \"2020\"},\n",
    "                      {\"NOC\": \"ANZ\", \"Year\": \"2020\"},\n",
    "                      {\"NOC\": \"ARG\", \"Year\": \"2020\"},\n",
    "                      {\"NOC\": \"ARM\", \"Year\": \"2020\"},\n",
    "                      {\"NOC\": \"AUS\", \"Year\": \"2020\"},\n",
    "                      {\"NOC\": \"AZE\", \"Year\": \"2020\"},\n",
    "                      {\"NOC\": \"BAH\", \"Year\": \"2020\"},\n",
    "                      {\"NOC\": \"BAR\", \"Year\": \"2020\"},\n",
    "                      {\"NOC\": \"BDI\", \"Year\": \"2020\"},\n",
    "                      {\"NOC\": \"BEL\", \"Year\": \"2020\"},\n",
    "                      {\"NOC\": \"BER\", \"Year\": \"2020\"},\n",
    "                      {\"NOC\": \"BLR\", \"Year\": \"2020\"},\n",
    "                      {\"NOC\": \"BOH\", \"Year\": \"2020\"},\n",
    "                      {\"NOC\": \"BRA\", \"Year\": \"2020\"},\n",
    "                      {\"NOC\": \"BRN\", \"Year\": \"2020\"},\n",
    "                      {\"NOC\": \"BUL\", \"Year\": \"2020\"},\n",
    "                      {\"NOC\": \"BWI\", \"Year\": \"2020\"},\n",
    "                      {\"NOC\": \"CAN\", \"Year\": \"2020\"},\n",
    "                      {\"NOC\": \"CHI\", \"Year\": \"2020\"},\n",
    "                      {\"NOC\": \"CHN\", \"Year\": \"2020\"},\n",
    "                      {\"NOC\": \"CIV\", \"Year\": \"2020\"},\n",
    "                      {\"NOC\": \"CMR\", \"Year\": \"2020\"},\n",
    "                      {\"NOC\": \"COL\", \"Year\": \"2020\"},\n",
    "                      {\"NOC\": \"CRC\", \"Year\": \"2020\"},\n",
    "                      {\"NOC\": \"CRO\", \"Year\": \"2020\"},\n",
    "                      {\"NOC\": \"CUB\", \"Year\": \"2020\"},\n",
    "                      {\"NOC\": \"CYP\", \"Year\": \"2020\"},\n",
    "                      {\"NOC\": \"CZE\", \"Year\": \"2020\"},\n",
    "                      {\"NOC\": \"DEN\", \"Year\": \"2020\"},\n",
    "                      {\"NOC\": \"DJI\", \"Year\": \"2020\"},\n",
    "                      {\"NOC\": \"DOM\", \"Year\": \"2020\"},\n",
    "                      {\"NOC\": \"ECU\", \"Year\": \"2020\"},\n",
    "                      {\"NOC\": \"EGY\", \"Year\": \"2020\"},\n",
    "                      {\"NOC\": \"ERI\", \"Year\": \"2020\"},\n",
    "                      {\"NOC\": \"ESP\", \"Year\": \"2020\"},\n",
    "                      {\"NOC\": \"EST\", \"Year\": \"2020\"},\n",
    "                      {\"NOC\": \"ETH\", \"Year\": \"2020\"},\n",
    "                      {\"NOC\": \"EUA\", \"Year\": \"2020\"},\n",
    "                      {\"NOC\": \"EUN\", \"Year\": \"2020\"},\n",
    "                      {\"NOC\": \"FIN\", \"Year\": \"2020\"},\n",
    "                      {\"NOC\": \"FRA\", \"Year\": \"2020\"},\n",
    "                      {\"NOC\": \"FRG\", \"Year\": \"2020\"},\n",
    "                      {\"NOC\": \"GAB\", \"Year\": \"2020\"},\n",
    "                      {\"NOC\": \"GBR\", \"Year\": \"2020\"},\n",
    "                      {\"NOC\": \"GEO\", \"Year\": \"2020\"},\n",
    "                      {\"NOC\": \"GER\", \"Year\": \"2020\"},\n",
    "                      {\"NOC\": \"GHA\", \"Year\": \"2020\"},\n",
    "                      {\"NOC\": \"GRE\", \"Year\": \"2020\"},\n",
    "                      {\"NOC\": \"GRN\", \"Year\": \"2020\"},\n",
    "                      {\"NOC\": \"GUA\", \"Year\": \"2020\"},\n",
    "                      {\"NOC\": \"GUY\", \"Year\": \"2020\"},\n",
    "                      {\"NOC\": \"HAI\", \"Year\": \"2020\"},\n",
    "                      {\"NOC\": \"HKG\", \"Year\": \"2020\"},\n",
    "                      {\"NOC\": \"HUN\", \"Year\": \"2020\"},\n",
    "                      {\"NOC\": \"INA\", \"Year\": \"2020\"},\n",
    "                      {\"NOC\": \"IND\", \"Year\": \"2020\"},\n",
    "                      {\"NOC\": \"IOP\", \"Year\": \"2020\"},\n",
    "                      {\"NOC\": \"IRI\", \"Year\": \"2020\"},\n",
    "                      {\"NOC\": \"IRL\", \"Year\": \"2020\"},\n",
    "                      {\"NOC\": \"IRQ\", \"Year\": \"2020\"},\n",
    "                      {\"NOC\": \"ISL\", \"Year\": \"2020\"},\n",
    "                      {\"NOC\": \"ISR\", \"Year\": \"2020\"},\n",
    "                      {\"NOC\": \"ISV\", \"Year\": \"2020\"},\n",
    "                      {\"NOC\": \"ITA\", \"Year\": \"2020\"},\n",
    "                      {\"NOC\": \"JAM\", \"Year\": \"2020\"},\n",
    "                      {\"NOC\": \"JPN\", \"Year\": \"2020\"},\n",
    "                      {\"NOC\": \"KAZ\", \"Year\": \"2020\"},\n",
    "                      {\"NOC\": \"KEN\", \"Year\": \"2020\"},\n",
    "                      {\"NOC\": \"KGZ\", \"Year\": \"2020\"},\n",
    "                      {\"NOC\": \"KOR\", \"Year\": \"2020\"},\n",
    "                      {\"NOC\": \"KSA\", \"Year\": \"2020\"},\n",
    "                      {\"NOC\": \"KUW\", \"Year\": \"2020\"},\n",
    "                      {\"NOC\": \"LAT\", \"Year\": \"2020\"},\n",
    "                      {\"NOC\": \"LIB\", \"Year\": \"2020\"},\n",
    "                      {\"NOC\": \"LTU\", \"Year\": \"2020\"},\n",
    "                      {\"NOC\": \"LUX\", \"Year\": \"2020\"},\n",
    "                      {\"NOC\": \"MAR\", \"Year\": \"2020\"},\n",
    "                      {\"NOC\": \"MAS\", \"Year\": \"2020\"},\n",
    "                      {\"NOC\": \"MDA\", \"Year\": \"2020\"},\n",
    "                      {\"NOC\": \"MEX\", \"Year\": \"2020\"},\n",
    "                      {\"NOC\": \"MGL\", \"Year\": \"2020\"},\n",
    "                      {\"NOC\": \"MKD\", \"Year\": \"2020\"},\n",
    "                      {\"NOC\": \"MNE\", \"Year\": \"2020\"},\n",
    "                      {\"NOC\": \"MOZ\", \"Year\": \"2020\"},\n",
    "                      {\"NOC\": \"MRI\", \"Year\": \"2020\"},\n",
    "                      {\"NOC\": \"NAM\", \"Year\": \"2020\"},\n",
    "                      {\"NOC\": \"NED\", \"Year\": \"2020\"},\n",
    "                      {\"NOC\": \"NGR\", \"Year\": \"2020\"},\n",
    "                      {\"NOC\": \"NIG\", \"Year\": \"2020\"},\n",
    "                      {\"NOC\": \"NOR\", \"Year\": \"2020\"},\n",
    "                      {\"NOC\": \"NZL\", \"Year\": \"2020\"},\n",
    "                      {\"NOC\": \"PAK\", \"Year\": \"2020\"},\n",
    "                      {\"NOC\": \"PAN\", \"Year\": \"2020\"},\n",
    "                      {\"NOC\": \"PAR\", \"Year\": \"2020\"},\n",
    "                      {\"NOC\": \"PER\", \"Year\": \"2020\"},\n",
    "                      {\"NOC\": \"PHI\", \"Year\": \"2020\"},\n",
    "                      {\"NOC\": \"POL\", \"Year\": \"2020\"},\n",
    "                      {\"NOC\": \"POR\", \"Year\": \"2020\"},\n",
    "                      {\"NOC\": \"PRK\", \"Year\": \"2020\"},\n",
    "                      {\"NOC\": \"PUR\", \"Year\": \"2020\"},\n",
    "                      {\"NOC\": \"QAT\", \"Year\": \"2020\"},\n",
    "                      {\"NOC\": \"ROU\", \"Year\": \"2020\"},\n",
    "                      {\"NOC\": \"RSA\", \"Year\": \"2020\"},\n",
    "                      {\"NOC\": \"RU1\", \"Year\": \"2020\"},\n",
    "                      {\"NOC\": \"RUS\", \"Year\": \"2020\"},\n",
    "                      {\"NOC\": \"SCG\", \"Year\": \"2020\"},\n",
    "                      {\"NOC\": \"WEN\", \"Year\": \"2020\"},\n",
    "                      {\"NOC\": \"SGP\", \"Year\": \"2020\"},\n",
    "                      {\"NOC\": \"SIN\", \"Year\": \"2020\"},\n",
    "                      {\"NOC\": \"SLO\", \"Year\": \"2020\"},\n",
    "                      {\"NOC\": \"SRB\", \"Year\": \"2020\"},\n",
    "                      {\"NOC\": \"SRI\", \"Year\": \"2020\"},\n",
    "                      {\"NOC\": \"SUD\", \"Year\": \"2020\"},\n",
    "                      {\"NOC\": \"SUI\", \"Year\": \"2020\"},\n",
    "                      {\"NOC\": \"SUR\", \"Year\": \"2020\"},\n",
    "                      {\"NOC\": \"SVK\", \"Year\": \"2020\"},\n",
    "                      {\"NOC\": \"SWE\", \"Year\": \"2020\"},\n",
    "                      {\"NOC\": \"SYR\", \"Year\": \"2020\"},\n",
    "                      {\"NOC\": \"TAN\", \"Year\": \"2020\"},\n",
    "                      {\"NOC\": \"TCH\", \"Year\": \"2020\"},\n",
    "                      {\"NOC\": \"TGA\", \"Year\": \"2020\"},\n",
    "                      {\"NOC\": \"THA\", \"Year\": \"2020\"},\n",
    "                      {\"NOC\": \"TJK\", \"Year\": \"2020\"},\n",
    "                      {\"NOC\": \"TOG\", \"Year\": \"2020\"},\n",
    "                      {\"NOC\": \"TPE\", \"Year\": \"2020\"},\n",
    "                      {\"NOC\": \"TRI\", \"Year\": \"2020\"},\n",
    "                      {\"NOC\": \"TTO\", \"Year\": \"2020\"},\n",
    "                      {\"NOC\": \"TUN\", \"Year\": \"2020\"},\n",
    "                      {\"NOC\": \"TUR\", \"Year\": \"2020\"},\n",
    "                      {\"NOC\": \"UAE\", \"Year\": \"2020\"},\n",
    "                      {\"NOC\": \"UGA\", \"Year\": \"2020\"},\n",
    "                      {\"NOC\": \"UKR\", \"Year\": \"2020\"},\n",
    "                      {\"NOC\": \"URS\", \"Year\": \"2020\"},\n",
    "                      {\"NOC\": \"URU\", \"Year\": \"2020\"},\n",
    "                      {\"NOC\": \"USA\", \"Year\": \"2020\"},\n",
    "                      {\"NOC\": \"USB\", \"Year\": \"2020\"},\n",
    "                      {\"NOC\": \"UZB\", \"Year\": \"2020\"},\n",
    "                      {\"NOC\": \"VEN\", \"Year\": \"2020\"},\n",
    "                      {\"NOC\": \"VIE\", \"Year\": \"2020\"},\n",
    "                      {\"NOC\": \"YUG\", \"Year\": \"2020\"},\n",
    "                      {\"NOC\": \"ZAM\", \"Year\": \"2020\"},\n",
    "                      {\"NOC\": \"ZIM\", \"Year\": \"2020\"},\n",
    "                      {\"NOC\": \"ZZX\", \"Year\": \"2020\"},\n",
    "                      ])\n",
    "\n"
   ]
  },
  {
   "cell_type": "code",
   "execution_count": null,
   "metadata": {
    "colab": {},
    "colab_type": "code",
    "id": "MqAczvLuslhy"
   },
   "outputs": [],
   "source": [
    "import numpy as np\n",
    "\n",
    "from sklearn.compose import ColumnTransformer\n",
    "from sklearn.pipeline import Pipeline\n",
    "from sklearn.impute import SimpleImputer\n",
    "from sklearn.preprocessing import StandardScaler, OneHotEncoder, LabelBinarizer\n",
    "from sklearn.linear_model import LogisticRegression, LinearRegression\n",
    "from sklearn.model_selection import train_test_split, GridSearchCV\n",
    "\n",
    "# We create the preprocessing pipelines for both numeric and categorical data.\n",
    "categorical_features = ['NOC', 'Year']\n",
    "categorical_transformer = Pipeline(steps=[\n",
    "    ('imputer', SimpleImputer(strategy='constant', fill_value='missing')),\n",
    "    ('onehot', OneHotEncoder(handle_unknown='ignore'))])\n",
    "preprocessor = ColumnTransformer(\n",
    "    transformers=[\n",
    "        ('cat', categorical_transformer, categorical_features)])\n",
    "# Append classifier to preprocessing pipeline.\n",
    "# Now we have a full prediction pipeline.\n",
    "clfG = Pipeline(steps=[('preprocessor', preprocessor),\n",
    "                      ('classifier', LinearRegression())])\n",
    "clfS = Pipeline(steps=[('preprocessor', preprocessor),\n",
    "                      ('classifier', LinearRegression())])\n",
    "clfB = Pipeline(steps=[('preprocessor', preprocessor),\n",
    "                      ('classifier', LinearRegression())])"
   ]
  },
  {
   "cell_type": "code",
   "execution_count": null,
   "metadata": {
    "colab": {
     "base_uri": "https://localhost:8080/",
     "height": 442
    },
    "colab_type": "code",
    "id": "y-J5fH7z5gPg",
    "outputId": "3591bbf3-0011-4919-dcac-84a24a3dd860"
   },
   "outputs": [],
   "source": [
    "y1 = df['Golds']\n",
    "y2 = df['Silvers']\n",
    "y3 = df['Bronzes']\n",
    "X = df[['NOC','Year']]\n",
    "print(X, y1)"
   ]
  },
  {
   "cell_type": "code",
   "execution_count": null,
   "metadata": {
    "colab": {},
    "colab_type": "code",
    "id": "N-hKwKXs5_Rr"
   },
   "outputs": [],
   "source": [
    "X_train, X_test, y_train, y_test = train_test_split(X, y1, test_size=0.2)\n",
    "#print(X_train) \n",
    "#print(y_train)\n",
    "clfG.fit(X_train, y_train)\n",
    "#print(\"model score: %.3f\" % clfG.score(X_test, y_test))\n",
    "golds = clfG.predict(newdf)"
   ]
  },
  {
   "cell_type": "code",
   "execution_count": null,
   "metadata": {
    "colab": {},
    "colab_type": "code",
    "id": "RfQ3KZkl6FNQ"
   },
   "outputs": [],
   "source": [
    "X_train, X_test, y_train, y_test = train_test_split(X, y2, test_size=0.2)\n",
    "#print(X_train) \n",
    "#print(y_train)\n",
    "clfS.fit(X_train, y_train)\n",
    "#print(\"model score: %.3f\" % clfS.score(X_test, y_test))\n",
    "silvers = clfS.predict(newdf)"
   ]
  },
  {
   "cell_type": "code",
   "execution_count": null,
   "metadata": {
    "colab": {},
    "colab_type": "code",
    "id": "zHVDRKkGL8m4"
   },
   "outputs": [],
   "source": [
    "X_train, X_test, y_train, y_test = train_test_split(X, y3, test_size=0.2)\n",
    "#print(X_train) \n",
    "#print(y_train)\n",
    "clfB.fit(X_train, y_train)\n",
    "#print(\"model score: %.3f\" % clfB.score(X_test, y_test))\n",
    "bronzes = clfB.predict(newdf)"
   ]
  },
  {
   "cell_type": "code",
   "execution_count": null,
   "metadata": {
    "colab": {
     "base_uri": "https://localhost:8080/",
     "height": 419
    },
    "colab_type": "code",
    "id": "3ayE_7crTHzH",
    "outputId": "7cccc421-f366-4154-95fd-aa2baef6a0da"
   },
   "outputs": [],
   "source": [
    "newdf[\"Golds\"] = golds.tolist()\n",
    "newdf[\"Silvers\"] = silvers.tolist()\n",
    "newdf[\"Bronzes\"] = bronzes.tolist()\n",
    "newdf = newdf.astype({'Golds': 'int32', 'Silvers': 'int32', 'Bronzes': 'int32'})\n",
    "newdf[\"Total\"] = newdf[\"Golds\"] + newdf[\"Silvers\"] + newdf[\"Bronzes\"]\n",
    "newdf.head(120)"
   ]
  },
  {
   "cell_type": "code",
   "execution_count": null,
   "metadata": {
    "colab": {},
    "colab_type": "code",
    "id": "SYccpyQ9X9jI"
   },
   "outputs": [],
   "source": [
    "newdf.to_csv(\"2020prediction.csv\", encoding='utf-8', index=False)"
   ]
  },
  {
   "cell_type": "code",
   "execution_count": null,
   "metadata": {
    "colab": {},
    "colab_type": "code",
    "id": "k49JoJNFk7-r"
   },
   "outputs": [],
   "source": []
  }
 ],
 "metadata": {
  "colab": {
   "collapsed_sections": [],
   "name": " OlympicMedalsJR.ipynb",
   "provenance": []
  },
  "kernelspec": {
   "display_name": "Python 3",
   "language": "python",
   "name": "python3"
  },
  "language_info": {
   "codemirror_mode": {
    "name": "ipython",
    "version": 3
   },
   "file_extension": ".py",
   "mimetype": "text/x-python",
   "name": "python",
   "nbconvert_exporter": "python",
   "pygments_lexer": "ipython3",
   "version": "3.7.3"
  }
 },
 "nbformat": 4,
 "nbformat_minor": 1
}
